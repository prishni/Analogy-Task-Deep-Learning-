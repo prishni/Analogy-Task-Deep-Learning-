{
 "cells": [
  {
   "cell_type": "code",
   "execution_count": 21,
   "metadata": {
    "collapsed": true,
    "deletable": true,
    "editable": true
   },
   "outputs": [],
   "source": [
    "import gzip\n",
    "import os\n",
    "import random\n",
    "import tensorflow as tf\n",
    "import numpy as np\n",
    "from sklearn import datasets\n",
    "from sklearn.model_selection import train_test_split\n",
    "\n",
    "\n",
    "## paths to files. Do not change this\n",
    "simInputFile = \"Q1/word-similarity-dataset\"\n",
    "analogyInputFile = \"Q1/analogy_dataset.txt\"\n",
    "vectorgzipFile = \"Q1/glove.6B.300d.txt.gz\"\n",
    "vectorTxtFile = \"Q1/glove.6B.300d.txt\"   # If you extract and use the gz file, use this.\n",
    "analogyTrainPath = \"Q1/wordRep/\"\n",
    "simOutputFile = \"Q1/simOutput.csv\"\n",
    "simSummaryFile = \"Q1/simSummary.csv\"\n",
    "anaSOln = \"Q1/analogySolution.csv\"\n",
    "Q4List = \"Q4/wordList.csv\"\n",
    "\n",
    "\n",
    "\n"
   ]
  },
  {
   "cell_type": "code",
   "execution_count": 3,
   "metadata": {
    "collapsed": true,
    "deletable": true,
    "editable": true
   },
   "outputs": [],
   "source": [
    "'''\n",
    "Stores affixes and their position in the vector\n",
    "'''\n",
    "def affix_vec(filename):\n",
    "    fin = open(filename,\"r\")\n",
    "    affix_dict={}\n",
    "    val=0\n",
    "    fin.readline()\n",
    "    for line in fin:\n",
    "        line = [item.rstrip() for item in line.rstrip().split(',')]\n",
    "        if line[1] not in affix_dict:\n",
    "            affix_dict[line[1]] = val\n",
    "            val+=1\n",
    "    fin.close()\n",
    "    return affix_dict\n",
    "#affix_vec(Q4List)"
   ]
  },
  {
   "cell_type": "code",
   "execution_count": 4,
   "metadata": {
    "collapsed": false,
    "deletable": true,
    "editable": true
   },
   "outputs": [],
   "source": [
    "'''\n",
    "Given an affix , it will return the one hot vector representation  \n",
    "'''\n",
    "def one_hot(affix,affix_dict):\n",
    "    size = len(affix_dict)\n",
    "    oneHot = [0]*size\n",
    "    oneHot[affix_dict[affix]] =1\n",
    "    return oneHot\n",
    "#affix_dict = affix_vec(Q4List)\n",
    "#one_hot('wise',affix_dict)"
   ]
  },
  {
   "cell_type": "code",
   "execution_count": 6,
   "metadata": {
    "collapsed": false,
    "deletable": true,
    "editable": true
   },
   "outputs": [],
   "source": [
    "'''\n",
    "Prepares list of all words given in wordList.csv file\n",
    "'''\n",
    "def prepare_list(filename,fastvec,lvec):\n",
    "    affix_list =[]\n",
    "    src_list =[]\n",
    "    der_list =[]\n",
    "    fin = open(filename,\"r\")\n",
    "    fin.readline()\n",
    "    for line in fin:\n",
    "        line = [item.rstrip() for item in line.rstrip().split(',')]\n",
    "        if(line[2] in fastvec and line[2] in lvec and line[3] in fastvec and line[3] in lvec):\n",
    "            affix_list.append(line[1])\n",
    "            src_list.append(line[3])\n",
    "            der_list.append(line[2])\n",
    "    return affix_list,src_list,der_list"
   ]
  },
  {
   "cell_type": "code",
   "execution_count": 18,
   "metadata": {
    "collapsed": false
   },
   "outputs": [
    {
     "name": "stdout",
     "output_type": "stream",
     "text": [
      "(8075, 254) (8075, 200) (8075, 404) (8075, 350)\n"
     ]
    }
   ],
   "source": [
    "'''\n",
    "Prepares training data and testing data \n",
    "'''\n",
    "def format_input(filename,fastvec,lvec):\n",
    "    affix_list,src_list,der_list = prepare_list(filename,fastvec,lvec)\n",
    "    affix_dict = affix_vec(Q4List)\n",
    "    f_trainx = np.array([[float(vec) for vec in fastvec[item]] for item in src_list])\n",
    "    f_trainy = np.array([[float(vec) for vec in fastvec[item]] for item in der_list])\n",
    "    traina = np.array([one_hot(affix,affix_dict) for affix in affix_list])\n",
    "    f_trainx= np.hstack((f_trainx,traina))\n",
    "    \n",
    "    l_trainx = np.array([[float(vec) for vec in lvec[item]] for item in src_list])\n",
    "    l_trainy = np.array([[float(vec) for vec in lvec[item]] for item in der_list])\n",
    "    l_trainx= np.hstack((l_trainx,traina))\n",
    "    \n",
    "    return f_trainx,f_trainy,l_trainx,l_trainy\n",
    "\n"
   ]
  },
  {
   "cell_type": "code",
   "execution_count": 7,
   "metadata": {
    "collapsed": false,
    "deletable": true,
    "editable": true
   },
   "outputs": [],
   "source": [
    "'''\n",
    "Prepares dict of words and their corresponding vector given in fastText_vectors.txt and vector_lazaridou.txt files\n",
    "'''\n",
    "def prepare_word_dict_l(filename = 'Q4/vector_lazaridou.txt'):\n",
    "    dict_l ={}\n",
    "    fin =open(filename,\"r\")\n",
    "    for line in fin:\n",
    "        line = line.replace('[',',')\n",
    "        line = line.replace(']','')\n",
    "        vec = line.strip().split(',')\n",
    "        keyword = vec[0].strip()\n",
    "        vec = [float(item.strip()) for item in vec[1:]]\n",
    "        dict_l[keyword] = vec\n",
    "    fin.close()\n",
    "    return dict_l\n",
    "    \n",
    "def prepare_word_dict_f(filename = 'Q4/fastText_vectors.txt'):\n",
    "    dict_f ={}\n",
    "    fin =open(filename,\"r\")\n",
    "    for line in fin:\n",
    "        vec = line.strip().split()\n",
    "        keyword = vec[0].strip()\n",
    "        vec = [float(item.strip()) for item in vec[1:]]\n",
    "        dict_f[keyword] = vec\n",
    "    fin.close()\n",
    "    return dict_f"
   ]
  },
  {
   "cell_type": "code",
   "execution_count": 29,
   "metadata": {
    "collapsed": true
   },
   "outputs": [],
   "source": [
    "RANDOM_SEED = 42\n",
    "tf.set_random_seed(RANDOM_SEED)\n",
    "\n",
    "\n",
    "def init_weights(shape):\n",
    "    \"\"\" Weight initialization \"\"\"\n",
    "    weights = tf.random_normal(shape, stddev=0.1)\n",
    "    return tf.Variable(weights)\n",
    "\n",
    "def forwardprop(X, w_1, w_2):\n",
    "    \"\"\"\n",
    "    Forward-propagation.\n",
    "    IMPORTANT: yhat is not softmax since TensorFlow's softmax_cross_entropy_with_logits() does that internally.\n",
    "    \"\"\"\n",
    "    h    = tf.nn.sigmoid(tf.matmul(X, w_1))  # The \\sigma function\n",
    "    yhat = tf.matmul(h, w_2)  # The \\varphi function\n",
    "    return yhat\n",
    "\n",
    "def trainnet(t):\n",
    "    fastvec = prepare_word_dict_f()\n",
    "    lvec = prepare_word_dict_l()\n",
    "    f_trainx,f_trainy,l_trainx,l_trainy = format_input(Q4List,fastvec,lvec)\n",
    "    #print(f_trainx.shape,f_trainy.shape,l_trainx.shape,l_trainy.shape)\n",
    "    \n",
    "    pos = int(0.8*len(f_trainx))\n",
    "    if(t ==0):\n",
    "        train_X = f_trainx[:pos]\n",
    "        train_Y = f_trainy[:pos]\n",
    "        test_X = f_trainx[pos:]\n",
    "        test_Y = f_trainy[pos:]\n",
    "    else:\n",
    "        train_X = l_trainx[:pos]\n",
    "        train_Y = l_trainy[:pos]\n",
    "        test_X = l_trainx[pos:]\n",
    "        test_Y = l_trainy[pos:]\n",
    "    #print(len(train_X),len(train_Y))\n",
    "    \n",
    "    # Layer's sizes\n",
    "    x_size = train_X.shape[1]   # Number of input nodes: 4 features and 1 bias\n",
    "    h_size = 30                # Number of hidden nodes\n",
    "    y_size = train_y.shape[1]   # Number of outcomes (3 iris flowers)\n",
    "\n",
    "    # Symbols\n",
    "    X = tf.placeholder(\"float\", shape=[None, x_size])\n",
    "    y = tf.placeholder(\"float\", shape=[None, y_size])\n",
    "\n",
    "    # Weight initializations\n",
    "    w_1 = init_weights((x_size, h_size))\n",
    "    w_2 = init_weights((h_size, y_size))\n",
    "\n",
    "    # Forward propagation\n",
    "    yhat    = forwardprop(X, w_1, w_2)\n",
    "    predict = yhat\n",
    "\n",
    "    # Backward propagation\n",
    "    cost    = tf.reduce_mean(tf.nn.softmax_cross_entropy_with_logits(labels=y, logits=yhat))\n",
    "    updates = tf.train.GradientDescentOptimizer(0.01).minimize(cost)\n",
    "\n",
    "    # Run SGD\n",
    "    sess = tf.Session()\n",
    "    init = tf.global_variables_initializer()\n",
    "    sess.run(init)\n",
    "\n",
    "    for epoch in range(5):\n",
    "        # Train with each example\n",
    "        for i in range(len(train_X)):\n",
    "            sess.run(updates, feed_dict={X: train_X[i: i + 1], y: train_y[i: i + 1]})\n",
    "    p = sess.run(predict, feed_dict={X: train_X, y: train_y})\n",
    "        '''\n",
    "        train_accuracy = np.mean(np.argmax(train_y, axis=1) ==\n",
    "                                 sess.run(predict, feed_dict={X: train_X, y: train_y}))\n",
    "        test_accuracy  = np.mean(np.argmax(test_y, axis=1) ==\n",
    "                                 sess.run(predict, feed_dict={X: test_X, y: test_y}))\n",
    "        '''\n",
    "        print(\"Epoch = %d, train accuracy = %.2f%%, test accuracy = %.2f%%\"\n",
    "              % (epoch + 1, 100. * train_accuracy, 100. * test_accuracy))\n",
    "\n",
    "    sess.close()\n",
    "    return p\n",
    "\n"
   ]
  },
  {
   "cell_type": "code",
   "execution_count": null,
   "metadata": {
    "collapsed": true,
    "deletable": true,
    "editable": true
   },
   "outputs": [],
   "source": [
    "def derivedWOrdTask(inputFile = Q4List):\n",
    "    print('hello world')\n",
    "    affix_dict = affix_vec(Q4List)\n",
    "    \"\"\"\n",
    "    Output vectors of 3 files:\n",
    "    1)AnsFastText.txt - fastText vectors of derived words in wordList.csv\n",
    "    2)AnsLzaridou.txt - Lazaridou vectors of the derived words in wordList.csv\n",
    "    3)AnsModel.txt - Vectors for derived words as provided by the model\n",
    "    \n",
    "    For all the three files, each line should contain a derived word and its vector, exactly like \n",
    "    the format followed in \"glove.6B.300d.txt\"\n",
    "    \n",
    "    word<space>dim1<space>dim2........<space>dimN\n",
    "    charitably 256.238 0.875 ...... 1.234\n",
    "    \n",
    "    \"\"\"\n",
    "    \n",
    "    \"\"\"\n",
    "    The function should return 2 values\n",
    "    1) Averaged cosine similarity between the corresponding words from output files 1 and 3, as well as 2 and 3.\n",
    "    \n",
    "        - if there are 3 derived words in wordList.csv, say word1, word2, word3\n",
    "        then find the cosine similiryt between word1 in AnsFastText.txt and word1 in AnsModel.txt.\n",
    "        - Repeat the same for word2 and word3.\n",
    "        - Average the 3 cosine similarity values\n",
    "        - DO the same for word1 to word3 between the files AnsLzaridou.txt and AnsModel.txt \n",
    "        and average the cosine simialities for valuse so obtained\n",
    "        \n",
    "    \"\"\"\n",
    "    return cosVal1,cosVal2\n",
    "    "
   ]
  },
  {
   "cell_type": "code",
   "execution_count": 9,
   "metadata": {
    "collapsed": true,
    "deletable": true,
    "editable": true
   },
   "outputs": [],
   "source": []
  },
  {
   "cell_type": "code",
   "execution_count": 30,
   "metadata": {
    "collapsed": false,
    "deletable": true,
    "editable": true
   },
   "outputs": [
    {
     "name": "stdout",
     "output_type": "stream",
     "text": [
      "6460 6460\n"
     ]
    }
   ],
   "source": [
    "trainnet(0)"
   ]
  },
  {
   "cell_type": "code",
   "execution_count": 26,
   "metadata": {
    "collapsed": true,
    "deletable": true,
    "editable": true
   },
   "outputs": [
    {
     "ename": "NameError",
     "evalue": "name 'train_X' is not defined",
     "output_type": "error",
     "traceback": [
      "\u001b[0;31m---------------------------------------------------------------------------\u001b[0m",
      "\u001b[0;31mNameError\u001b[0m                                 Traceback (most recent call last)",
      "\u001b[0;32m<ipython-input-26-1746de0b7a1c>\u001b[0m in \u001b[0;36m<module>\u001b[0;34m()\u001b[0m\n\u001b[0;32m----> 1\u001b[0;31m \u001b[0mprint\u001b[0m\u001b[0;34m(\u001b[0m\u001b[0mtrain_X\u001b[0m\u001b[0;34m.\u001b[0m\u001b[0mshape\u001b[0m\u001b[0;34m)\u001b[0m\u001b[0;34m\u001b[0m\u001b[0m\n\u001b[0m",
      "\u001b[0;31mNameError\u001b[0m: name 'train_X' is not defined"
     ]
    }
   ],
   "source": []
  },
  {
   "cell_type": "code",
   "execution_count": null,
   "metadata": {
    "collapsed": true,
    "deletable": true,
    "editable": true
   },
   "outputs": [],
   "source": []
  },
  {
   "cell_type": "code",
   "execution_count": null,
   "metadata": {
    "collapsed": true,
    "deletable": true,
    "editable": true
   },
   "outputs": [],
   "source": []
  },
  {
   "cell_type": "code",
   "execution_count": null,
   "metadata": {
    "collapsed": true,
    "deletable": true,
    "editable": true
   },
   "outputs": [],
   "source": []
  }
 ],
 "metadata": {
  "kernelspec": {
   "display_name": "Python 3",
   "language": "python",
   "name": "python3"
  },
  "language_info": {
   "codemirror_mode": {
    "name": "ipython",
    "version": 3
   },
   "file_extension": ".py",
   "mimetype": "text/x-python",
   "name": "python",
   "nbconvert_exporter": "python",
   "pygments_lexer": "ipython3",
   "version": "3.5.2"
  }
 },
 "nbformat": 4,
 "nbformat_minor": 0
}
