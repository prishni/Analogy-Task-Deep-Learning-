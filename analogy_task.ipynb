{
 "cells": [
  {
   "cell_type": "code",
   "execution_count": 88,
   "metadata": {
    "collapsed": true
   },
   "outputs": [],
   "source": [
    "import gzip\n",
    "import os\n",
    "import random\n",
    "import numpy as np\n",
    "\n",
    "## paths to files. Do not change this\n",
    "simInputFile = \"Q1/word-similarity-dataset\"\n",
    "analogyInputFile = \"analogy_dataset.txt\"\n",
    "vectorgzipFile = \"Q1/glove.6B.300d.txt.gz\"\n",
    "vectorTxtFile = \"Q1/glove.6B.300d.txt\"   # If you extract and use the gz file, use this.\n",
    "analogyTrainPath = \"Q1/wordRep/\"\n",
    "simOutputFile = \"Q1/simOutput.csv\"\n",
    "simSummaryFile = \"Q1/simSummary.csv\"\n",
    "anaSOln = \"Q1/analogySolution.csv\"\n",
    "Q4List = \"Q4/wordList.csv\"\n"
   ]
  },
  {
   "cell_type": "code",
   "execution_count": 89,
   "metadata": {
    "collapsed": true
   },
   "outputs": [],
   "source": [
    "def readFiles(filename):\n",
    "    #f=open(\"analogy_dataset.txt\",w)\n",
    "    f = open(filename,\"r\")\n",
    "    lines = f.readlines()\n",
    "    content =[]\n",
    "    for x in lines:\n",
    "        x = x.rstrip()\n",
    "        if(x != ''):\n",
    "            content.append(x.strip())\n",
    "    f.close()\n",
    "    return content"
   ]
  },
  {
   "cell_type": "code",
   "execution_count": 90,
   "metadata": {
    "collapsed": true
   },
   "outputs": [],
   "source": [
    "def checkInDict(wordPair,validateVectors):\n",
    "    wordPair.replace('\\t',' ')\n",
    "    words = wordPair.split()\n",
    "    for word in words:\n",
    "        if(word not in validateVectors):\n",
    "            return 0\n",
    "    return 1\n",
    "    "
   ]
  },
  {
   "cell_type": "code",
   "execution_count": 91,
   "metadata": {
    "collapsed": true
   },
   "outputs": [],
   "source": [
    "def generateData(validateVectors):\n",
    "    files = os.listdir(\"./Q1/wordRep/wordnet\")\n",
    "    random.seed(100)\n",
    "    fout = open(\"./analogy_dataset.txt\",\"w\")\n",
    "    for f in files:\n",
    "        list1= readFiles(\"./Q1/wordRep/wordnet/\"+f)\n",
    "        list2 = []\n",
    "        for f1 in files:\n",
    "            if f == f1:\n",
    "                continue\n",
    "            else:\n",
    "                l =readFiles(\"./Q1/wordRep/wordnet/\"+f1)\n",
    "                list2 = list2 + l\n",
    "        for word in list1:\n",
    "            query =[None] *7\n",
    "            if(checkInDict(word,validateVectors) == 0):\n",
    "                continue\n",
    "            query[0] = word\n",
    "            opt = random.randint(0,len(list1)-1)\n",
    "            while (checkInDict(list1[opt],validateVectors) == 0):\n",
    "                opt = random.randint(0,len(list1)-1)\n",
    "            pos = random.randint(1,5)\n",
    "            query[pos] = list1[opt]\n",
    "            query[6] = chr(ord('a') + pos-1)\n",
    "            for i in range(1,6):\n",
    "                if(i == pos): continue\n",
    "                else:\n",
    "                    option = random.randint(0,len(list2)-1)\n",
    "                    while (checkInDict(list2[option],validateVectors) == 0):\n",
    "                        option = random.randint(0,len(list2)-1)\n",
    "                    query[i] = list2[option]\n",
    "            for i in range(0,7):\n",
    "                fout.flush()\n",
    "                query[i] = query[i].replace('\\t',' ')\n",
    "                fout.write(query[i]+'\\n')\n",
    "            fout.write('\\n\\n')\n",
    "    fout.close()\n",
    "            #print(query[6])"
   ]
  },
  {
   "cell_type": "code",
   "execution_count": 92,
   "metadata": {
    "collapsed": true
   },
   "outputs": [],
   "source": [
    "# Similarity Dataset\n",
    "simDataset = [item.split(\" | \") for item in open(simInputFile).read().splitlines()]\n",
    "# Analogy dataset\n",
    "analogyDataset = [[stuff.strip() for stuff in item.strip('\\n').split('\\n')] for item in open(analogyInputFile).read().split('\\n\\n')]\n",
    "\n",
    "def vectorExtract(simD = simDataset, anaD = analogyDataset, vect = vectorgzipFile):\n",
    "    simList = [stuff for item in simD for stuff in item]\n",
    "    analogyList = [thing for item in anaD for stuff in item[0:4] for thing in stuff.split()]\n",
    "    simList.extend(analogyList)\n",
    "    wordList = set(simList)\n",
    "    print(len(wordList))\n",
    "    wordDict = dict()\n",
    "    \n",
    "    vectorFile = gzip.open(vect, 'r')\n",
    "    for line in vectorFile:\n",
    "        if line.split()[0].strip().decode(\"utf-8\") in wordList:\n",
    "            wordDict[line.split()[0].strip().decode(\"utf-8\")] = line.split()[1:]\n",
    "    \n",
    "    \n",
    "    vectorFile.close()\n",
    "    print('retrieved', len(wordDict.keys()))\n",
    "    return wordDict\n",
    "\n",
    "# Extracting Vectors from Analogy and Similarity Dataset\n",
    "#validateVectors = vectorExtract()"
   ]
  },
  {
   "cell_type": "code",
   "execution_count": 112,
   "metadata": {
    "collapsed": false
   },
   "outputs": [],
   "source": [
    "def generateInputMat(validateVectors):\n",
    "    fin = open(\"analogy_dataset.txt\",\"r\")\n",
    "    x = np.zeros((1,3600))\n",
    "    y = np.zeros((1,1))\n",
    "    trainX =[]\n",
    "    trainY =[]\n",
    "    line = fin.readline()\n",
    "    while (line != ''):\n",
    "        not_in_dict = 0\n",
    "        tempvec =[]\n",
    "        for i in range(0,6):\n",
    "            l = line.rstrip().split()\n",
    "            for j in range(0,2):\n",
    "                if (l[j] in validateVectors):\n",
    "                    tempvec = tempvec + validateVectors[l[j]]\n",
    "                else:\n",
    "                    not_in_dict =1\n",
    "            line = fin.readline()\n",
    "        tempy =line.rstrip()\n",
    "        line = fin.readline()\n",
    "        line = fin.readline()\n",
    "        line = fin.readline()\n",
    "        if (not_in_dict == 0):\n",
    "            #x = np.vstack((x,tempvec))\n",
    "            trainX.append(tempvec)\n",
    "            tempy = ord(tempy)-ord('a')\n",
    "            yvec= [0,0,0,0,0]\n",
    "            yvec[tempy] =1\n",
    "            #y = np.vstack((y,tempy))\n",
    "            trainY.append(yvec)\n",
    "        \n",
    "    fin.close()\n",
    "    trainX = np.array(trainX)\n",
    "    trainY = np.array(trainY)\n",
    "    return trainX[1:],trainX[1:],trainY[1:],trainY[1:]"
   ]
  },
  {
   "cell_type": "code",
   "execution_count": 110,
   "metadata": {
    "collapsed": false
   },
   "outputs": [],
   "source": [
    "# Requires: numpy, sklearn>=0.18.1, tensorflow>=1.0\n",
    "\n",
    "# NOTE: In order to make the code simple, we rewrite x * W_1 + b_1 = x' * W_1'\n",
    "# where x' = [x | 1] and W_1' is the matrix W_1 appended with a new row with elements b_1's.\n",
    "# Similarly, for h * W_2 + b_2\n",
    "import tensorflow as tf\n",
    "import numpy as np\n",
    "from sklearn import datasets\n",
    "from sklearn.model_selection import train_test_split\n",
    "\n",
    "RANDOM_SEED = 42\n",
    "tf.set_random_seed(RANDOM_SEED)\n",
    "\n",
    "\n",
    "def init_weights(shape):\n",
    "    \"\"\" Weight initialization \"\"\"\n",
    "    weights = tf.random_normal(shape, stddev=0.1)\n",
    "    return tf.Variable(weights)\n",
    "\n",
    "def forwardprop(X, w_1, w_2):\n",
    "    \"\"\"\n",
    "    Forward-propagation.\n",
    "    IMPORTANT: yhat is not softmax since TensorFlow's softmax_cross_entropy_with_logits() does that internally.\n",
    "    \"\"\"\n",
    "    h    = tf.nn.sigmoid(tf.matmul(X, w_1))  # The \\sigma function\n",
    "    yhat = tf.matmul(h, w_2)  # The \\varphi function\n",
    "    return yhat\n",
    "\n",
    "def get_iris_data():\n",
    "    \"\"\" Read the iris data set and split them into training and test sets \"\"\"\n",
    "    iris   = datasets.load_iris()\n",
    "    data   = iris[\"data\"]\n",
    "    target = iris[\"target\"]\n",
    "\n",
    "    # Prepend the column of 1s for bias\n",
    "    N, M  = data.shape\n",
    "    all_X = np.ones((N, M + 1))\n",
    "    all_X[:, 1:] = data\n",
    "\n",
    "    # Convert into one-hot vectors\n",
    "    num_labels = len(np.unique(target))\n",
    "    all_Y = np.eye(num_labels)[target]  # One liner trick!\n",
    "    return train_test_split(all_X, all_Y, test_size=0.33, random_state=RANDOM_SEED)\n",
    "\n",
    "def trainnet(validateVectors):\n",
    "    train_X, test_X, train_y, test_y = generateInputMat(validateVectors)\n",
    "\n",
    "    # Layer's sizes\n",
    "    x_size = train_X.shape[1]   # Number of input nodes: 4 features and 1 bias\n",
    "    h_size = 256                # Number of hidden nodes\n",
    "    y_size = train_y.shape[1]   # Number of outcomes (3 iris flowers)\n",
    "\n",
    "    # Symbols\n",
    "    X = tf.placeholder(\"float\", shape=[None, x_size])\n",
    "    y = tf.placeholder(\"float\", shape=[None, y_size])\n",
    "\n",
    "    # Weight initializations\n",
    "    w_1 = init_weights((x_size, h_size))\n",
    "    w_2 = init_weights((h_size, y_size))\n",
    "\n",
    "    # Forward propagation\n",
    "    yhat    = forwardprop(X, w_1, w_2)\n",
    "    predict = tf.argmax(yhat, axis=1)\n",
    "\n",
    "    # Backward propagation\n",
    "    cost    = tf.reduce_mean(tf.nn.softmax_cross_entropy_with_logits(labels=y, logits=yhat))\n",
    "    updates = tf.train.GradientDescentOptimizer(0.01).minimize(cost)\n",
    "\n",
    "    # Run SGD\n",
    "    sess = tf.Session()\n",
    "    init = tf.global_variables_initializer()\n",
    "    sess.run(init)\n",
    "\n",
    "    for epoch in range(10):\n",
    "        # Train with each example\n",
    "        for i in range(len(train_X)):\n",
    "            sess.run(updates, feed_dict={X: train_X[i: i + 1], y: train_y[i: i + 1]})\n",
    "\n",
    "        train_accuracy = np.mean(np.argmax(train_y, axis=1) ==\n",
    "                                 sess.run(predict, feed_dict={X: train_X, y: train_y}))\n",
    "        test_accuracy  = np.mean(np.argmax(test_y, axis=1) ==\n",
    "                                 sess.run(predict, feed_dict={X: test_X, y: test_y}))\n",
    "\n",
    "        print(\"Epoch = %d, train accuracy = %.2f%%, test accuracy = %.2f%%\"\n",
    "              % (epoch + 1, 100. * train_accuracy, 100. * test_accuracy))\n",
    "\n",
    "    sess.close()\n",
    "\n"
   ]
  },
  {
   "cell_type": "code",
   "execution_count": null,
   "metadata": {
    "collapsed": false
   },
   "outputs": [
    {
     "name": "stdout",
     "output_type": "stream",
     "text": [
      "Epoch = 1, train accuracy = 25.17%, test accuracy = 25.17%\n"
     ]
    }
   ],
   "source": [
    "trainnet(validateVectors)"
   ]
  },
  {
   "cell_type": "code",
   "execution_count": null,
   "metadata": {
    "collapsed": true
   },
   "outputs": [],
   "source": []
  },
  {
   "cell_type": "code",
   "execution_count": null,
   "metadata": {
    "collapsed": true
   },
   "outputs": [],
   "source": []
  },
  {
   "cell_type": "code",
   "execution_count": 108,
   "metadata": {
    "collapsed": false
   },
   "outputs": [
    {
     "name": "stdout",
     "output_type": "stream",
     "text": [
      "(7146, 3600)\n"
     ]
    }
   ],
   "source": [
    "#generateData(validateVectors)\n",
    "#validateVectors = vectorExtract()\n",
    "trainX,trainY,testX,testY = generateInputMat(validateVectors)\n",
    "print(trainX.shape)"
   ]
  },
  {
   "cell_type": "code",
   "execution_count": null,
   "metadata": {
    "collapsed": true
   },
   "outputs": [],
   "source": []
  }
 ],
 "metadata": {
  "kernelspec": {
   "display_name": "Python 3",
   "language": "python",
   "name": "python3"
  },
  "language_info": {
   "codemirror_mode": {
    "name": "ipython",
    "version": 3
   },
   "file_extension": ".py",
   "mimetype": "text/x-python",
   "name": "python",
   "nbconvert_exporter": "python",
   "pygments_lexer": "ipython3",
   "version": "3.5.2"
  }
 },
 "nbformat": 4,
 "nbformat_minor": 2
}
